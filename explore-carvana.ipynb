{
 "cells": [
  {
   "cell_type": "markdown",
   "metadata": {},
   "source": [
    "## Config"
   ]
  },
  {
   "cell_type": "code",
   "execution_count": 1,
   "metadata": {},
   "outputs": [
    {
     "name": "stdout",
     "output_type": "stream",
     "text": [
      "True True True\n"
     ]
    },
    {
     "name": "stderr",
     "output_type": "stream",
     "text": [
      "/home/bfortuner/anaconda3/lib/python3.6/site-packages/matplotlib/__init__.py:1405: UserWarning: \n",
      "This call to matplotlib.use() has no effect because the backend has already\n",
      "been chosen; matplotlib.use() must be called *before* pylab, matplotlib.pyplot,\n",
      "or matplotlib.backends is imported for the first time.\n",
      "\n",
      "  warnings.warn(_use_error_msg)\n"
     ]
    }
   ],
   "source": [
    "%matplotlib inline\n",
    "%load_ext autoreload\n",
    "%autoreload 2\n",
    "from common import *\n",
    "from competitions import carvana"
   ]
  },
  {
   "cell_type": "code",
   "execution_count": 2,
   "metadata": {},
   "outputs": [
    {
     "data": {
      "text/html": [
       "<div>\n",
       "<style>\n",
       "    .dataframe thead tr:only-child th {\n",
       "        text-align: right;\n",
       "    }\n",
       "\n",
       "    .dataframe thead th {\n",
       "        text-align: left;\n",
       "    }\n",
       "\n",
       "    .dataframe tbody tr th {\n",
       "        vertical-align: top;\n",
       "    }\n",
       "</style>\n",
       "<table border=\"1\" class=\"dataframe\">\n",
       "  <thead>\n",
       "    <tr style=\"text-align: right;\">\n",
       "      <th></th>\n",
       "      <th>img</th>\n",
       "      <th>rle_mask</th>\n",
       "    </tr>\n",
       "  </thead>\n",
       "  <tbody>\n",
       "    <tr>\n",
       "      <th>0</th>\n",
       "      <td>0004d4463b50_01.jpg</td>\n",
       "      <td>1 1</td>\n",
       "    </tr>\n",
       "    <tr>\n",
       "      <th>1</th>\n",
       "      <td>0004d4463b50_02.jpg</td>\n",
       "      <td>1 1</td>\n",
       "    </tr>\n",
       "    <tr>\n",
       "      <th>2</th>\n",
       "      <td>0004d4463b50_03.jpg</td>\n",
       "      <td>1 1</td>\n",
       "    </tr>\n",
       "    <tr>\n",
       "      <th>3</th>\n",
       "      <td>0004d4463b50_04.jpg</td>\n",
       "      <td>1 1</td>\n",
       "    </tr>\n",
       "    <tr>\n",
       "      <th>4</th>\n",
       "      <td>0004d4463b50_05.jpg</td>\n",
       "      <td>1 1</td>\n",
       "    </tr>\n",
       "  </tbody>\n",
       "</table>\n",
       "</div>"
      ],
      "text/plain": [
       "                   img rle_mask\n",
       "0  0004d4463b50_01.jpg      1 1\n",
       "1  0004d4463b50_02.jpg      1 1\n",
       "2  0004d4463b50_03.jpg      1 1\n",
       "3  0004d4463b50_04.jpg      1 1\n",
       "4  0004d4463b50_05.jpg      1 1"
      ]
     },
     "execution_count": 2,
     "metadata": {},
     "output_type": "execute_result"
    }
   ],
   "source": [
    "TRAIN_PATH = cfg.PATHS['datasets']['inputs']['trn_jpg'] \n",
    "TEST_PATH = cfg.PATHS['datasets']['inputs']['tst_jpg'] \n",
    "MASK_PATH = cfg.PATHS['datasets']['targets']['trn_gif']\n",
    "\n",
    "car_attributes_df = metadata.get_metadata_df(\n",
    "    cfg.METADATA_PATH).sort_values(by='id')\n",
    "sample_submission_df = metadata.get_metadata_df(\n",
    "    cfg.PROJECT_PATH+'/sample_submission.csv')\n",
    "train_masks_df = metadata.get_metadata_df(os.path.join(\n",
    "    cfg.PROJECT_PATH, 'train_masks.csv')).sort_values(by='img')\n",
    "# car_attributes_df.head()\n",
    "sample_submission_df.head()\n",
    "# train_masks_df.head()\n",
    "# print(sample_submission_df.size/16)\n",
    "# print(train_masks_df.size/16)"
   ]
  },
  {
   "cell_type": "code",
   "execution_count": 3,
   "metadata": {
    "collapsed": true
   },
   "outputs": [],
   "source": [
    "HARDWARE_CONFIG = {\n",
    "    'hostname': socket.gethostname(),\n",
    "    'random_seed': 3,\n",
    "    'gpu_device':1\n",
    "}\n",
    "torch.cuda.set_device(HARDWARE_CONFIG['gpu_device'])\n",
    "cudnn.benchmark = True\n",
    "\n",
    "DATA_CONFIG = {\n",
    "    'img_W': 1918,\n",
    "    'img_H': 1280,\n",
    "    'img_rescale': 128, # H - smaller side\n",
    "    'dset_fold': 'fold1K',\n",
    "    'n_classes': 1\n",
    "}\n",
    "\n",
    "TRAIN_CONFIG = {\n",
    "    'initial_lr': 1e-3,\n",
    "    'weight_decay': 1e-4,\n",
    "    'n_epochs': 100,\n",
    "    'n_cycles': 9,\n",
    "    'early_stop_metric': metric.Loss().name,\n",
    "    'max_patience': 20,\n",
    "    'batch_size': 3,\n",
    "    'threshold': 0.5,\n",
    "    'save_weights_cadence': 1, #every epoch\n",
    "    'lr_schedule': {60:1e-4},#, 20:1e-3, 50:1e-4},\n",
    "}\n",
    "OTHER_CONFIG = {}\n",
    "\n",
    "TRANSFORMS = {\n",
    "    c.TRAIN: torchsample.transforms.Compose([\n",
    "        transforms.Scale(size=[DATA_CONFIG['img_rescale'], DATA_CONFIG['img_rescale']]),\n",
    "        #data_aug.RandomHueSaturation(hue_shift=(-50, 50), sat_shift=(-5, 5), val_shift=(-15, 15), u=0.5),\n",
    "        transforms.ToTensor(),\n",
    "    ]),\n",
    "    c.VAL: torchsample.transforms.Compose([\n",
    "        transforms.Scale(size=[DATA_CONFIG['img_rescale'], DATA_CONFIG['img_rescale']]),\n",
    "        transforms.ToTensor(),\n",
    "    ]),\n",
    "    c.TEST: torchsample.transforms.Compose([\n",
    "        transforms.Scale(size=[DATA_CONFIG['img_rescale'], DATA_CONFIG['img_rescale']]),\n",
    "        transforms.ToTensor(),\n",
    "    ]),\n",
    "    c.JOINT: torchsample.transforms.Compose([\n",
    "        torchsample.transforms.RandomFlip(h=True, v=False, p=0.5),\n",
    "#         data_aug.RandomShiftScaleRotate(shift=(-0.0625,0.0625), scale=(-0.1,0.1),\n",
    "#                     rotate=(-45,45), aspect=(0,0), u=0.5),\n",
    "        #        torchsample.transforms.RandomRotate(10),\n",
    "    ]),\n",
    "    c.TENSOR: torchsample.transforms.Compose([\n",
    "        transforms.ToTensor(),\n",
    "    ]),\n",
    "    c.MASK: torchsample.transforms.Compose([\n",
    "        transforms.ToTensor(),\n",
    "        data_aug.Slice1D(),\n",
    "        data_aug.BinaryMask(TRAIN_CONFIG['threshold'])\n",
    "    ]),\n",
    "    c.UPSAMPLE: torchsample.transforms.Compose([\n",
    "        transforms.ToPILImage(),\n",
    "        transforms.Scale(1280),\n",
    "        transforms.ToTensor(),\n",
    "    ]),\n",
    "    c.TARGET: torchsample.transforms.Compose([\n",
    "        transforms.Scale(size=[DATA_CONFIG['img_rescale'], DATA_CONFIG['img_rescale']]),\n",
    "        transforms.ToTensor(),\n",
    "        data_aug.Slice1D(),\n",
    "        data_aug.BinaryMask(TRAIN_CONFIG['threshold'])\n",
    "    ]),\n",
    "}"
   ]
  },
  {
   "cell_type": "markdown",
   "metadata": {},
   "source": [
    "## Data"
   ]
  },
  {
   "cell_type": "code",
   "execution_count": 4,
   "metadata": {
    "collapsed": true
   },
   "outputs": [],
   "source": [
    "trn_fpaths, trn_fnames = utils.files.get_paths_to_files(TRAIN_PATH)\n",
    "val_size = math.floor(len(trn_fnames)/16*.20)*16 #1008\n",
    "fold = data_folds.make_fold(DATA_CONFIG['dset_fold'], TRAIN_PATH, TEST_PATH, \n",
    "                             cfg.PATHS['folds'], val_size, shuffle=False)\n",
    "fold = data_folds.load_data_fold(cfg.PATHS['folds'], DATA_CONFIG['dset_fold'])"
   ]
  },
  {
   "cell_type": "code",
   "execution_count": 5,
   "metadata": {
    "collapsed": true
   },
   "outputs": [],
   "source": [
    "SAMPLE = 999999999\n",
    "trn_inp_fpaths = data_folds.get_fpaths_from_fold(fold, c.TRAIN, TRAIN_PATH,\n",
    "                                                 postfix=c.INPUT_POSTFIX)[:SAMPLE]\n",
    "trn_targ_fpaths = data_folds.get_fpaths_from_fold(fold, c.TRAIN, MASK_PATH,\n",
    "                                                  postfix=c.TARGET_POSTFIX)[:SAMPLE]\n",
    "val_inp_fpaths = data_folds.get_fpaths_from_fold(fold, c.VAL, TRAIN_PATH,\n",
    "                                                 postfix=c.INPUT_POSTFIX)[:SAMPLE]\n",
    "val_targ_fpaths = data_folds.get_fpaths_from_fold(fold, c.VAL, MASK_PATH,\n",
    "                                                  postfix=c.TARGET_POSTFIX)[:SAMPLE]\n",
    "tst_inp_fpaths = data_folds.get_fpaths_from_fold(fold, c.TEST, TEST_PATH, postfix=c.JPG_EXT)"
   ]
  },
  {
   "cell_type": "code",
   "execution_count": 6,
   "metadata": {},
   "outputs": [
    {
     "data": {
      "text/plain": [
       "1008"
      ]
     },
     "execution_count": 6,
     "metadata": {},
     "output_type": "execute_result"
    }
   ],
   "source": [
    "len(val_inp_fpaths)"
   ]
  },
  {
   "cell_type": "code",
   "execution_count": 7,
   "metadata": {},
   "outputs": [
    {
     "data": {
      "image/png": "[encoded data removed]",
      "text/plain": [
       "<matplotlib.figure.Figure at 0x7ff878486c88>"
      ]
     },
     "metadata": {},
     "output_type": "display_data"
    },
    {
     "data": {
      "image/png": "[encoded data removed]",
      "text/plain": [
       "<matplotlib.figure.Figure at 0x7ff878486a20>"
      ]
     },
     "metadata": {},
     "output_type": "display_data"
    }
   ],
   "source": [
    "utils.imgs.plot_img_from_fpath(trn_targ_fpaths[12])\n",
    "utils.imgs.plot_img_from_fpath(trn_inp_fpaths[12])"
   ]
  },
  {
   "cell_type": "code",
   "execution_count": 8,
   "metadata": {},
   "outputs": [
    {
     "name": "stdout",
     "output_type": "stream",
     "text": [
      "trn 4080 val 1008 tst 100064\n"
     ]
    }
   ],
   "source": [
    "trn_dataset = datasets.datasets.ImageTargetDataset(trn_inp_fpaths, trn_targ_fpaths, \n",
    "                   'pil', 'pil', input_transform=TRANSFORMS[c.TRAIN],\n",
    "                   target_transform=TRANSFORMS[c.TARGET], joint_transform=TRANSFORMS[c.JOINT])\n",
    "val_dataset = datasets.datasets.ImageTargetDataset(val_inp_fpaths, val_targ_fpaths, \n",
    "                   'pil', 'pil', input_transform=TRANSFORMS[c.VAL], \n",
    "                   target_transform=TRANSFORMS[c.TARGET], joint_transform=None)\n",
    "val_fullsize_dataset = datasets.datasets.ImageTargetDataset(val_inp_fpaths, val_targ_fpaths, \n",
    "                   'pil', 'pil', input_transform=TRANSFORMS[c.TENSOR], \n",
    "                   target_transform=TRANSFORMS[c.MASK], joint_transform=None)\n",
    "tst_dataset = datasets.datasets.ImageTargetDataset(tst_inp_fpaths, None, \n",
    "                   'pil', 'pil', input_transform=TRANSFORMS[c.TEST])\n",
    "tst_fullsize_dataset = datasets.datasets.ImageTargetDataset(tst_inp_fpaths, None, \n",
    "                   'pil', 'pil', input_transform=TRANSFORMS[c.TENSOR], \n",
    "                   target_transform=TRANSFORMS[c.MASK], joint_transform=None)\n",
    "print(\"trn\",len(trn_dataset),\"val\",len(val_dataset),'tst',len(tst_dataset))\n",
    "\n",
    "trn_loader = data_loaders.get_data_loader(trn_dataset, TRAIN_CONFIG['batch_size'], \n",
    "                                          shuffle=True, n_workers=4, pin_memory=True)\n",
    "val_loader = data_loaders.get_data_loader(val_dataset, TRAIN_CONFIG['batch_size'],\n",
    "                                          shuffle=False, n_workers=4, pin_memory=True)\n",
    "val_fullsize_loader = data_loaders.get_data_loader(val_fullsize_dataset, batch_size=8,\n",
    "                                          shuffle=False, n_workers=1, pin_memory=False)\n",
    "tst_loader = data_loaders.get_data_loader(tst_dataset, TRAIN_CONFIG['batch_size'],\n",
    "                                          shuffle=False, n_workers=2, pin_memory=False)\n",
    "tst_fullsize_loader = data_loaders.get_data_loader(tst_fullsize_dataset, batch_size=8,\n",
    "                                          shuffle=False, n_workers=1, pin_memory=False)"
   ]
  },
  {
   "cell_type": "code",
   "execution_count": 9,
   "metadata": {
    "scrolled": false
   },
   "outputs": [
    {
     "data": {
      "text/plain": [
       "(torch.Size([3, 3, 128, 128]),\n",
       " torch.Size([3, 1, 128, 128]),\n",
       " ['/bigguy/data/carvana/datasets/inputs/trn_jpg/3d7a1030deeb_02.jpg',\n",
       "  '/bigguy/data/carvana/datasets/inputs/trn_jpg/bb7625a3f1d4_07.jpg',\n",
       "  '/bigguy/data/carvana/datasets/inputs/trn_jpg/0cdf5b5d0ce1_06.jpg'],\n",
       " ['/bigguy/data/carvana/datasets/targets/trn_gif/3d7a1030deeb_02_mask.gif',\n",
       "  '/bigguy/data/carvana/datasets/targets/trn_gif/bb7625a3f1d4_07_mask.gif',\n",
       "  '/bigguy/data/carvana/datasets/targets/trn_gif/0cdf5b5d0ce1_06_mask.gif'])"
      ]
     },
     "execution_count": 9,
     "metadata": {},
     "output_type": "execute_result"
    }
   ],
   "source": [
    "inputs,targets,inp_path,tar_path = next(iter(trn_loader))\n",
    "inputs.size(),targets.size(),inp_path[:3],tar_path[:3]"
   ]
  },
  {
   "cell_type": "code",
   "execution_count": 12,
   "metadata": {},
   "outputs": [
    {
     "data": {
      "image/png": "[encoded data removed]",
      "text/plain": [
       "<matplotlib.figure.Figure at 0x7ff8549d3588>"
      ]
     },
     "metadata": {},
     "output_type": "display_data"
    },
    {
     "name": "stdout",
     "output_type": "stream",
     "text": [
      "(128, 128, 3)\n"
     ]
    },
    {
     "data": {
      "image/png": "[encoded data removed]",
      "text/plain": [
       "<matplotlib.figure.Figure at 0x7ff85499d358>"
      ]
     },
     "metadata": {},
     "output_type": "display_data"
    }
   ],
   "source": [
    "idx = random.randint(0,TRAIN_CONFIG['batch_size']-1)\n",
    "utils.imgs.plot_img_tensor(inputs[idx])\n",
    "utils.imgs.plot_binary_mask(targets[idx].numpy())"
   ]
  },
  {
   "cell_type": "markdown",
   "metadata": {},
   "source": [
    "## Train"
   ]
  },
  {
   "cell_type": "code",
   "execution_count": 13,
   "metadata": {
    "collapsed": true
   },
   "outputs": [],
   "source": [
    "# in_shape = tuple(inputs.size()[1:])\n",
    "# print(in_shape)\n",
    "#model = models.unet.UNet128(in_shape=(3, 128, 128), num_classes=DATA_CONFIG['n_classes'])\n",
    "model = models.unet.UNet128(in_shape=(3, DATA_CONFIG['img_rescale'], DATA_CONFIG['img_rescale']),\n",
    "                             num_classes=DATA_CONFIG['n_classes'])\n",
    "#model = nn.DataParallel(model.cuda(), device_ids=[0,1])\n",
    "model = model.cuda()\n",
    "#outputs = model(Variable(inputs.cuda()))\n",
    "#print(outputs.size(), targets.size())"
   ]
  },
  {
   "cell_type": "code",
   "execution_count": null,
   "metadata": {
    "collapsed": true
   },
   "outputs": [],
   "source": [
    "# ## Load weights\n",
    "experiment_name = 'adamtestUNet128-Adam-ScheduledLR-img64-lr0.001-wd1e-05-bs32-fold1K-idDC3E3'\n",
    "epoch = 2\n",
    "exp_utils.load_weights_by_exp_and_epoch(model, experiment_name, epoch)"
   ]
  },
  {
   "cell_type": "code",
   "execution_count": 14,
   "metadata": {
    "collapsed": true
   },
   "outputs": [],
   "source": [
    "criterion = loss_functions.DiceLoss()\n",
    "#criterion = loss_functions.DiceBCELoss(dice_weight=0.0)"
   ]
  },
  {
   "cell_type": "code",
   "execution_count": 15,
   "metadata": {
    "collapsed": true
   },
   "outputs": [],
   "source": [
    "optimizer = optim.SGD(model.parameters(), TRAIN_CONFIG['initial_lr'], \n",
    "                      momentum=0.9, weight_decay=TRAIN_CONFIG['weight_decay'])\n",
    "optimizer = optim.Adam(model.parameters(), TRAIN_CONFIG['initial_lr'], weight_decay=TRAIN_CONFIG['weight_decay'])"
   ]
  },
  {
   "cell_type": "code",
   "execution_count": 16,
   "metadata": {
    "collapsed": true
   },
   "outputs": [],
   "source": [
    "N_ITERS = TRAIN_CONFIG['n_epochs'] * len(trn_loader)\n",
    "lr_adjuster = learning_rates.SnapshotLR(TRAIN_CONFIG['initial_lr'], 'mini_batch', \n",
    "                                        TRAIN_CONFIG['initial_lr'], N_ITERS,\n",
    "                                        n_cycles=TRAIN_CONFIG['n_cycles'])\n",
    "lr_adjuster = learning_rates.ScheduledLR(TRAIN_CONFIG['initial_lr'], 'epoch', TRAIN_CONFIG['lr_schedule'])"
   ]
  },
  {
   "cell_type": "code",
   "execution_count": 17,
   "metadata": {
    "collapsed": true
   },
   "outputs": [],
   "source": [
    "trainer = trainers.ImageTargetTrainer(criterion, criterion, optimizer, lr_adjuster, n_batches_per_step=5)"
   ]
  },
  {
   "cell_type": "code",
   "execution_count": 18,
   "metadata": {
    "collapsed": true
   },
   "outputs": [],
   "source": [
    "NEW_EXP_NAME = 'AdamBaseline128'\n",
    "RESUME_EXP_NAME = None#'adamtestUNet128-Adam-ScheduledLR-img64-lr0.001-wd1e-05-bs32-fold1K-idDC3E3'\n",
    "if not RESUME_EXP_NAME:\n",
    "    EXP_NAME_ARGS = [utils.general.get_class_name(model), \n",
    "                    utils.general.get_class_name(optimizer), \n",
    "                    utils.general.get_class_name(lr_adjuster),\n",
    "                    'img'+str(DATA_CONFIG['img_rescale']),\n",
    "                    'lr'+str(TRAIN_CONFIG['initial_lr']),\n",
    "                    'wd'+str(TRAIN_CONFIG['weight_decay']),\n",
    "                    'bs'+str(TRAIN_CONFIG['batch_size']),\n",
    "                    str(DATA_CONFIG['dset_fold'])]\n",
    "    EXPERIMENT_NAME = exp_utils.generate_display_name(NEW_EXP_NAME, EXP_NAME_ARGS)\n",
    "    METRICS = [metric.Loss(), metric.DiceScore()]\n",
    "    AUX_METRICS = [metric.AuxiliaryMetric('LearningRate', 'lr'), \n",
    "                   metric.AuxiliaryMetric('SystemMemory', 'mb')]\n",
    "    VISUALIZERS = [Viz(EXPERIMENT_NAME), Kibana(EXPERIMENT_NAME)]\n",
    "\n",
    "    EXP_CONFIG = {\n",
    "        'name': EXPERIMENT_NAME,\n",
    "        'parent_dir': cfg.PATHS['experiments'],\n",
    "        'metrics': METRICS,\n",
    "        'aux_metrics': AUX_METRICS,\n",
    "        'visualizers': VISUALIZERS,\n",
    "        'data': DATA_CONFIG,\n",
    "        'training': TRAIN_CONFIG,\n",
    "        'other': OTHER_CONFIG,\n",
    "        'transforms': TRANSFORMS[c.TRAIN],\n",
    "        'hardware': HARDWARE_CONFIG,\n",
    "        'model': model,\n",
    "        'optimizer': optimizer,\n",
    "        'lr_adjuster': lr_adjuster,\n",
    "        'criterion': criterion\n",
    "    }"
   ]
  },
  {
   "cell_type": "code",
   "execution_count": null,
   "metadata": {
    "collapsed": true,
    "scrolled": false
   },
   "outputs": [],
   "source": [
    "# Resume\n",
    "exp = Experiment(RESUME_EXP_NAME, cfg.PATHS['experiments'])\n",
    "exp.resume(verbose=True)\n",
    "trainer = trainers.ImageTargetTrainer(criterion, criterion, exp.optim, lr_adjuster, n_batches_per_step=1)"
   ]
  },
  {
   "cell_type": "code",
   "execution_count": null,
   "metadata": {},
   "outputs": [
    {
     "name": "stdout",
     "output_type": "stream",
     "text": [
      "AdamBaseline128UNet128-Adam-ScheduledLR-img128-lr0.001-wd0.0001-bs3-fold1K-id0360B\n"
     ]
    }
   ],
   "source": [
    "exp = Experiment(EXP_CONFIG['name'], cfg.PATHS['experiments'])\n",
    "exp.init(EXP_CONFIG)\n",
    "print(exp.name)"
   ]
  },
  {
   "cell_type": "code",
   "execution_count": null,
   "metadata": {
    "scrolled": false
   },
   "outputs": [
    {
     "name": "stderr",
     "output_type": "stream",
     "text": [
      "Epoch 1\n",
      "Trn - Loss .3021 | Dice .9448 | LR .001 | Time 1.0m 48.21s\n",
      "Val - Loss .0967 | Dice .9767 | LR .001 | Time 0.0m 25.30s\n"
     ]
    },
    {
     "name": "stdout",
     "output_type": "stream",
     "text": [
      "Memory usage (): 2859.00 MB\n",
      "\n"
     ]
    },
    {
     "name": "stderr",
     "output_type": "stream",
     "text": [
      "Epoch 2\n",
      "Trn - Loss .0476 | Dice .9819 | LR .001 | Time 1.0m 47.19s\n",
      "Val - Loss .0255 | Dice .9856 | LR .001 | Time 0.0m 26.13s\n"
     ]
    },
    {
     "name": "stdout",
     "output_type": "stream",
     "text": [
      "Memory usage (): 2870.00 MB\n",
      "\n"
     ]
    },
    {
     "name": "stderr",
     "output_type": "stream",
     "text": [
      "Epoch 3\n",
      "Trn - Loss .0217 | Dice .9862 | LR .001 | Time 1.0m 47.57s\n",
      "Val - Loss .0175 | Dice .9874 | LR .001 | Time 0.0m 24.49s\n"
     ]
    },
    {
     "name": "stdout",
     "output_type": "stream",
     "text": [
      "Memory usage (): 2870.00 MB\n",
      "\n"
     ]
    },
    {
     "name": "stderr",
     "output_type": "stream",
     "text": [
      "Epoch 4\n",
      "Trn - Loss .0179 | Dice .9859 | LR .001 | Time 1.0m 46.50s\n",
      "Val - Loss .0159 | Dice .9868 | LR .001 | Time 0.0m 25.61s\n"
     ]
    },
    {
     "name": "stdout",
     "output_type": "stream",
     "text": [
      "Memory usage (): 2870.00 MB\n",
      "\n"
     ]
    },
    {
     "name": "stderr",
     "output_type": "stream",
     "text": [
      "Epoch 5\n",
      "Trn - Loss .0141 | Dice .9883 | LR .001 | Time 1.0m 47.10s\n",
      "Val - Loss .0133 | Dice .9885 | LR .001 | Time 0.0m 24.90s\n"
     ]
    },
    {
     "name": "stdout",
     "output_type": "stream",
     "text": [
      "Memory usage (): 2870.00 MB\n",
      "\n"
     ]
    },
    {
     "name": "stderr",
     "output_type": "stream",
     "text": [
      "Epoch 6\n",
      "Trn - Loss .0134 | Dice .9882 | LR .001 | Time 1.0m 45.17s\n",
      "Val - Loss .0126 | Dice .9887 | LR .001 | Time 0.0m 25.30s\n"
     ]
    },
    {
     "name": "stdout",
     "output_type": "stream",
     "text": [
      "Memory usage (): 2870.00 MB\n",
      "\n"
     ]
    },
    {
     "name": "stderr",
     "output_type": "stream",
     "text": [
      "Epoch 7\n",
      "Trn - Loss .0116 | Dice .9895 | LR .001 | Time 1.0m 45.54s\n",
      "Val - Loss .0130 | Dice .9881 | LR .001 | Time 0.0m 24.17s\n"
     ]
    },
    {
     "name": "stdout",
     "output_type": "stream",
     "text": [
      "Memory usage (): 2870.00 MB\n",
      "\n"
     ]
    },
    {
     "name": "stderr",
     "output_type": "stream",
     "text": [
      "Epoch 8\n",
      "Trn - Loss .0121 | Dice .9889 | LR .001 | Time 1.0m 47.41s\n",
      "Val - Loss .0131 | Dice .9880 | LR .001 | Time 0.0m 23.96s\n"
     ]
    },
    {
     "name": "stdout",
     "output_type": "stream",
     "text": [
      "Memory usage (): 2870.00 MB\n",
      "\n"
     ]
    },
    {
     "name": "stderr",
     "output_type": "stream",
     "text": [
      "Epoch 9\n",
      "Trn - Loss .0111 | Dice .9897 | LR .001 | Time 1.0m 42.15s\n",
      "Val - Loss .0119 | Dice .9889 | LR .001 | Time 0.0m 24.39s\n"
     ]
    },
    {
     "name": "stdout",
     "output_type": "stream",
     "text": [
      "Memory usage (): 2870.00 MB\n",
      "\n"
     ]
    },
    {
     "name": "stderr",
     "output_type": "stream",
     "text": [
      "Epoch 10\n",
      "Trn - Loss .0104 | Dice .9902 | LR .001 | Time 1.0m 45.22s\n",
      "Val - Loss .0135 | Dice .9871 | LR .001 | Time 0.0m 25.12s\n"
     ]
    },
    {
     "name": "stdout",
     "output_type": "stream",
     "text": [
      "Memory usage (): 2870.00 MB\n",
      "\n"
     ]
    },
    {
     "name": "stderr",
     "output_type": "stream",
     "text": [
      "Epoch 11\n",
      "Trn - Loss .0122 | Dice .9883 | LR .001 | Time 1.0m 46.16s\n",
      "Val - Loss .0111 | Dice .9894 | LR .001 | Time 0.0m 24.50s\n"
     ]
    },
    {
     "name": "stdout",
     "output_type": "stream",
     "text": [
      "Memory usage (): 2870.00 MB\n",
      "\n"
     ]
    },
    {
     "name": "stderr",
     "output_type": "stream",
     "text": [
      "Epoch 12\n",
      "Trn - Loss .0099 | Dice .9905 | LR .001 | Time 1.0m 45.47s\n",
      "Val - Loss .0099 | Dice .9905 | LR .001 | Time 0.0m 25.74s\n"
     ]
    },
    {
     "name": "stdout",
     "output_type": "stream",
     "text": [
      "Memory usage (): 2870.00 MB\n",
      "\n"
     ]
    },
    {
     "name": "stderr",
     "output_type": "stream",
     "text": [
      "Epoch 13\n",
      "Trn - Loss .0096 | Dice .9908 | LR .001 | Time 1.0m 45.01s\n",
      "Val - Loss .0100 | Dice .9903 | LR .001 | Time 0.0m 24.64s\n"
     ]
    },
    {
     "name": "stdout",
     "output_type": "stream",
     "text": [
      "Memory usage (): 2870.00 MB\n",
      "\n"
     ]
    },
    {
     "name": "stderr",
     "output_type": "stream",
     "text": [
      "Epoch 14\n",
      "Trn - Loss .0096 | Dice .9907 | LR .001 | Time 1.0m 46.29s\n",
      "Val - Loss .0100 | Dice .9903 | LR .001 | Time 0.0m 24.32s\n"
     ]
    },
    {
     "name": "stdout",
     "output_type": "stream",
     "text": [
      "Memory usage (): 2870.00 MB\n",
      "\n"
     ]
    },
    {
     "name": "stderr",
     "output_type": "stream",
     "text": [
      "Epoch 15\n",
      "Trn - Loss .0093 | Dice .9910 | LR .001 | Time 1.0m 43.99s\n",
      "Val - Loss .0096 | Dice .9907 | LR .001 | Time 0.0m 24.45s\n"
     ]
    },
    {
     "name": "stdout",
     "output_type": "stream",
     "text": [
      "Memory usage (): 2870.00 MB\n",
      "\n"
     ]
    },
    {
     "name": "stderr",
     "output_type": "stream",
     "text": [
      "Epoch 16\n",
      "Trn - Loss .0109 | Dice .9894 | LR .001 | Time 1.0m 45.13s\n",
      "Val - Loss .0446 | Dice .9559 | LR .001 | Time 0.0m 24.03s\n"
     ]
    },
    {
     "name": "stdout",
     "output_type": "stream",
     "text": [
      "Memory usage (): 2870.00 MB\n",
      "\n"
     ]
    },
    {
     "name": "stderr",
     "output_type": "stream",
     "text": [
      "Epoch 17\n",
      "Trn - Loss .0107 | Dice .9896 | LR .001 | Time 1.0m 45.59s\n",
      "Val - Loss .0098 | Dice .9904 | LR .001 | Time 0.0m 24.47s\n"
     ]
    },
    {
     "name": "stdout",
     "output_type": "stream",
     "text": [
      "Memory usage (): 2870.00 MB\n",
      "\n"
     ]
    },
    {
     "name": "stderr",
     "output_type": "stream",
     "text": [
      "Epoch 18\n",
      "Trn - Loss .0092 | Dice .9911 | LR .001 | Time 1.0m 45.03s\n",
      "Val - Loss .0096 | Dice .9906 | LR .001 | Time 0.0m 24.35s\n"
     ]
    },
    {
     "name": "stdout",
     "output_type": "stream",
     "text": [
      "Memory usage (): 2870.00 MB\n",
      "\n"
     ]
    },
    {
     "name": "stderr",
     "output_type": "stream",
     "text": [
      "Epoch 19\n",
      "Trn - Loss .0090 | Dice .9912 | LR .001 | Time 1.0m 43.18s\n",
      "Val - Loss .0093 | Dice .9909 | LR .001 | Time 0.0m 24.49s\n"
     ]
    },
    {
     "name": "stdout",
     "output_type": "stream",
     "text": [
      "Memory usage (): 2870.00 MB\n",
      "\n"
     ]
    },
    {
     "name": "stderr",
     "output_type": "stream",
     "text": [
      "Epoch 20\n",
      "Trn - Loss .0098 | Dice .9905 | LR .001 | Time 1.0m 45.40s\n",
      "Val - Loss .0103 | Dice .9900 | LR .001 | Time 0.0m 24.68s\n"
     ]
    },
    {
     "name": "stdout",
     "output_type": "stream",
     "text": [
      "Memory usage (): 2870.00 MB\n",
      "\n"
     ]
    },
    {
     "name": "stderr",
     "output_type": "stream",
     "text": [
      "Epoch 21\n",
      "Trn - Loss .0089 | Dice .9913 | LR .001 | Time 1.0m 46.86s\n",
      "Val - Loss .0094 | Dice .9908 | LR .001 | Time 0.0m 24.25s\n"
     ]
    },
    {
     "name": "stdout",
     "output_type": "stream",
     "text": [
      "Memory usage (): 2870.00 MB\n",
      "\n"
     ]
    },
    {
     "name": "stderr",
     "output_type": "stream",
     "text": [
      "Epoch 22\n",
      "Trn - Loss .0086 | Dice .9915 | LR .001 | Time 1.0m 45.51s\n",
      "Val - Loss .0088 | Dice .9914 | LR .001 | Time 0.0m 23.83s\n"
     ]
    },
    {
     "name": "stdout",
     "output_type": "stream",
     "text": [
      "Memory usage (): 2870.00 MB\n",
      "\n"
     ]
    },
    {
     "name": "stderr",
     "output_type": "stream",
     "text": [
      "Epoch 23\n",
      "Trn - Loss .0085 | Dice .9917 | LR .001 | Time 1.0m 44.22s\n",
      "Val - Loss .0087 | Dice .9914 | LR .001 | Time 0.0m 24.01s\n"
     ]
    },
    {
     "name": "stdout",
     "output_type": "stream",
     "text": [
      "Memory usage (): 2870.00 MB\n",
      "\n"
     ]
    },
    {
     "name": "stderr",
     "output_type": "stream",
     "text": [
      "Epoch 24\n",
      "Trn - Loss .0085 | Dice .9916 | LR .001 | Time 1.0m 44.49s\n",
      "Val - Loss .0110 | Dice .9892 | LR .001 | Time 0.0m 23.46s\n"
     ]
    },
    {
     "name": "stdout",
     "output_type": "stream",
     "text": [
      "Memory usage (): 2870.00 MB\n",
      "\n"
     ]
    },
    {
     "name": "stderr",
     "output_type": "stream",
     "text": [
      "Epoch 25\n",
      "Trn - Loss .0099 | Dice .9903 | LR .001 | Time 1.0m 41.70s\n",
      "Val - Loss .0134 | Dice .9869 | LR .001 | Time 0.0m 23.59s\n"
     ]
    },
    {
     "name": "stdout",
     "output_type": "stream",
     "text": [
      "Memory usage (): 2870.00 MB\n",
      "\n"
     ]
    },
    {
     "name": "stderr",
     "output_type": "stream",
     "text": [
      "Epoch 26\n",
      "Trn - Loss .0095 | Dice .9906 | LR .001 | Time 1.0m 45.72s\n",
      "Val - Loss .0094 | Dice .9907 | LR .001 | Time 0.0m 24.61s\n"
     ]
    },
    {
     "name": "stdout",
     "output_type": "stream",
     "text": [
      "Memory usage (): 2870.00 MB\n",
      "\n"
     ]
    },
    {
     "name": "stderr",
     "output_type": "stream",
     "text": [
      "Epoch 27\n",
      "Trn - Loss .0084 | Dice .9917 | LR .001 | Time 1.0m 45.74s\n",
      "Val - Loss .0092 | Dice .9910 | LR .001 | Time 0.0m 23.65s\n"
     ]
    },
    {
     "name": "stdout",
     "output_type": "stream",
     "text": [
      "Memory usage (): 2870.00 MB\n",
      "\n"
     ]
    },
    {
     "name": "stderr",
     "output_type": "stream",
     "text": [
      "Epoch 28\n",
      "Trn - Loss .0083 | Dice .9918 | LR .001 | Time 1.0m 45.07s\n",
      "Val - Loss .0090 | Dice .9912 | LR .001 | Time 0.0m 23.43s\n"
     ]
    },
    {
     "name": "stdout",
     "output_type": "stream",
     "text": [
      "Memory usage (): 2870.00 MB\n",
      "\n"
     ]
    },
    {
     "name": "stderr",
     "output_type": "stream",
     "text": [
      "Epoch 29\n",
      "Trn - Loss .0082 | Dice .9919 | LR .001 | Time 1.0m 42.77s\n",
      "Val - Loss .0094 | Dice .9907 | LR .001 | Time 0.0m 24.59s\n"
     ]
    },
    {
     "name": "stdout",
     "output_type": "stream",
     "text": [
      "Memory usage (): 2870.00 MB\n",
      "\n"
     ]
    },
    {
     "name": "stderr",
     "output_type": "stream",
     "text": [
      "Epoch 30\n",
      "Trn - Loss .0084 | Dice .9918 | LR .001 | Time 1.0m 43.66s\n",
      "Val - Loss .0103 | Dice .9899 | LR .001 | Time 0.0m 23.89s\n"
     ]
    },
    {
     "name": "stdout",
     "output_type": "stream",
     "text": [
      "Memory usage (): 2870.00 MB\n",
      "\n"
     ]
    },
    {
     "name": "stderr",
     "output_type": "stream",
     "text": [
      "Epoch 31\n",
      "Trn - Loss .0082 | Dice .9920 | LR .001 | Time 1.0m 43.34s\n",
      "Val - Loss .0093 | Dice .9908 | LR .001 | Time 0.0m 24.38s\n"
     ]
    },
    {
     "name": "stdout",
     "output_type": "stream",
     "text": [
      "Memory usage (): 2870.00 MB\n",
      "\n"
     ]
    },
    {
     "name": "stderr",
     "output_type": "stream",
     "text": [
      "Epoch 32\n",
      "Trn - Loss .0083 | Dice .9919 | LR .001 | Time 1.0m 40.16s\n",
      "Val - Loss .0135 | Dice .9867 | LR .001 | Time 0.0m 27.66s\n"
     ]
    },
    {
     "name": "stdout",
     "output_type": "stream",
     "text": [
      "Memory usage (): 2870.00 MB\n",
      "\n"
     ]
    },
    {
     "name": "stderr",
     "output_type": "stream",
     "text": [
      "Epoch 33\n",
      "Trn - Loss .0089 | Dice .9912 | LR .001 | Time 1.0m 38.76s\n",
      "Val - Loss .0086 | Dice .9915 | LR .001 | Time 0.0m 25.36s\n"
     ]
    },
    {
     "name": "stdout",
     "output_type": "stream",
     "text": [
      "Memory usage (): 2870.00 MB\n",
      "\n"
     ]
    },
    {
     "name": "stderr",
     "output_type": "stream",
     "text": [
      "Epoch 34\n",
      "Trn - Loss .0080 | Dice .9922 | LR .001 | Time 1.0m 40.73s\n",
      "Val - Loss .0093 | Dice .9909 | LR .001 | Time 0.0m 26.10s\n"
     ]
    },
    {
     "name": "stdout",
     "output_type": "stream",
     "text": [
      "Memory usage (): 2870.00 MB\n",
      "\n"
     ]
    },
    {
     "name": "stderr",
     "output_type": "stream",
     "text": [
      "Epoch 35\n",
      "Trn - Loss .0080 | Dice .9921 | LR .001 | Time 1.0m 42.37s\n",
      "Val - Loss .0091 | Dice .9910 | LR .001 | Time 0.0m 26.09s\n"
     ]
    },
    {
     "name": "stdout",
     "output_type": "stream",
     "text": [
      "Memory usage (): 2870.00 MB\n",
      "\n"
     ]
    },
    {
     "name": "stderr",
     "output_type": "stream",
     "text": [
      "Epoch 36\n",
      "Trn - Loss .0078 | Dice .9923 | LR .001 | Time 1.0m 38.06s\n",
      "Val - Loss .0085 | Dice .9917 | LR .001 | Time 0.0m 25.17s\n"
     ]
    },
    {
     "name": "stdout",
     "output_type": "stream",
     "text": [
      "Memory usage (): 2871.00 MB\n",
      "\n"
     ]
    },
    {
     "name": "stderr",
     "output_type": "stream",
     "text": [
      "Epoch 37\n",
      "Trn - Loss .0105 | Dice .9896 | LR .001 | Time 1.0m 41.74s\n",
      "Val - Loss .0096 | Dice .9906 | LR .001 | Time 0.0m 25.79s\n"
     ]
    },
    {
     "name": "stdout",
     "output_type": "stream",
     "text": [
      "Memory usage (): 2871.00 MB\n",
      "\n"
     ]
    },
    {
     "name": "stderr",
     "output_type": "stream",
     "text": [
      "Epoch 38\n",
      "Trn - Loss .0083 | Dice .9919 | LR .001 | Time 1.0m 41.33s\n",
      "Val - Loss .0172 | Dice .9830 | LR .001 | Time 0.0m 27.40s\n"
     ]
    },
    {
     "name": "stdout",
     "output_type": "stream",
     "text": [
      "Memory usage (): 2871.00 MB\n",
      "\n"
     ]
    },
    {
     "name": "stderr",
     "output_type": "stream",
     "text": [
      "Epoch 39\n",
      "Trn - Loss .0078 | Dice .9923 | LR .001 | Time 1.0m 38.65s\n",
      "Val - Loss .0085 | Dice .9916 | LR .001 | Time 0.0m 24.62s\n"
     ]
    },
    {
     "name": "stdout",
     "output_type": "stream",
     "text": [
      "Memory usage (): 2871.00 MB\n",
      "\n"
     ]
    },
    {
     "name": "stderr",
     "output_type": "stream",
     "text": [
      "Epoch 40\n",
      "Trn - Loss .0078 | Dice .9923 | LR .001 | Time 1.0m 40.89s\n",
      "Val - Loss .0559 | Dice .9444 | LR .001 | Time 0.0m 26.26s\n"
     ]
    },
    {
     "name": "stdout",
     "output_type": "stream",
     "text": [
      "Memory usage (): 2871.00 MB\n",
      "\n"
     ]
    },
    {
     "name": "stderr",
     "output_type": "stream",
     "text": [
      "Epoch 41\n",
      "Trn - Loss .0078 | Dice .9923 | LR .001 | Time 1.0m 40.11s\n",
      "Val - Loss .0094 | Dice .9907 | LR .001 | Time 0.0m 26.55s\n"
     ]
    },
    {
     "name": "stdout",
     "output_type": "stream",
     "text": [
      "Memory usage (): 2871.00 MB\n",
      "\n"
     ]
    },
    {
     "name": "stderr",
     "output_type": "stream",
     "text": [
      "Epoch 42\n",
      "Trn - Loss .0078 | Dice .9923 | LR .001 | Time 1.0m 41.59s\n",
      "Val - Loss .0085 | Dice .9917 | LR .001 | Time 0.0m 25.12s\n"
     ]
    },
    {
     "name": "stdout",
     "output_type": "stream",
     "text": [
      "Memory usage (): 2871.00 MB\n",
      "\n"
     ]
    },
    {
     "name": "stderr",
     "output_type": "stream",
     "text": [
      "Epoch 43\n",
      "Trn - Loss .0077 | Dice .9924 | LR .001 | Time 1.0m 41.02s\n",
      "Val - Loss .0082 | Dice .9920 | LR .001 | Time 0.0m 26.51s\n"
     ]
    },
    {
     "name": "stdout",
     "output_type": "stream",
     "text": [
      "Memory usage (): 2871.00 MB\n",
      "\n"
     ]
    },
    {
     "name": "stderr",
     "output_type": "stream",
     "text": [
      "Epoch 44\n",
      "Trn - Loss .0077 | Dice .9924 | LR .001 | Time 1.0m 43.08s\n",
      "Val - Loss .0086 | Dice .9915 | LR .001 | Time 0.0m 26.49s\n"
     ]
    },
    {
     "name": "stdout",
     "output_type": "stream",
     "text": [
      "Memory usage (): 2871.00 MB\n",
      "\n"
     ]
    },
    {
     "name": "stderr",
     "output_type": "stream",
     "text": [
      "Epoch 45\n",
      "Trn - Loss .0076 | Dice .9925 | LR .001 | Time 1.0m 40.53s\n",
      "Val - Loss .0084 | Dice .9917 | LR .001 | Time 0.0m 25.20s\n"
     ]
    },
    {
     "name": "stdout",
     "output_type": "stream",
     "text": [
      "Memory usage (): 2871.00 MB\n",
      "\n"
     ]
    },
    {
     "name": "stderr",
     "output_type": "stream",
     "text": [
      "Epoch 46\n",
      "Trn - Loss .0077 | Dice .9924 | LR .001 | Time 1.0m 41.30s\n",
      "Val - Loss .0167 | Dice .9836 | LR .001 | Time 0.0m 25.30s\n"
     ]
    },
    {
     "name": "stdout",
     "output_type": "stream",
     "text": [
      "Memory usage (): 2871.00 MB\n",
      "\n"
     ]
    },
    {
     "name": "stderr",
     "output_type": "stream",
     "text": [
      "Epoch 47\n",
      "Trn - Loss .0077 | Dice .9924 | LR .001 | Time 1.0m 41.38s\n",
      "Val - Loss .0081 | Dice .9920 | LR .001 | Time 0.0m 25.83s\n"
     ]
    },
    {
     "name": "stdout",
     "output_type": "stream",
     "text": [
      "Memory usage (): 2871.00 MB\n",
      "\n"
     ]
    },
    {
     "name": "stderr",
     "output_type": "stream",
     "text": [
      "Epoch 48\n",
      "Trn - Loss .0079 | Dice .9922 | LR .001 | Time 1.0m 42.98s\n",
      "Val - Loss .0086 | Dice .9915 | LR .001 | Time 0.0m 25.85s\n"
     ]
    },
    {
     "name": "stdout",
     "output_type": "stream",
     "text": [
      "Memory usage (): 2871.00 MB\n",
      "\n"
     ]
    },
    {
     "name": "stderr",
     "output_type": "stream",
     "text": [
      "Epoch 49\n",
      "Trn - Loss .0076 | Dice .9925 | LR .001 | Time 1.0m 40.97s\n",
      "Val - Loss .0082 | Dice .9920 | LR .001 | Time 0.0m 25.50s\n"
     ]
    },
    {
     "name": "stdout",
     "output_type": "stream",
     "text": [
      "Memory usage (): 2871.00 MB\n",
      "\n"
     ]
    },
    {
     "name": "stderr",
     "output_type": "stream",
     "text": [
      "Epoch 50\n",
      "Trn - Loss .0075 | Dice .9926 | LR .001 | Time 1.0m 43.64s\n",
      "Val - Loss .0332 | Dice .9672 | LR .001 | Time 0.0m 23.49s\n"
     ]
    },
    {
     "name": "stdout",
     "output_type": "stream",
     "text": [
      "Memory usage (): 2871.00 MB\n",
      "\n"
     ]
    },
    {
     "name": "stderr",
     "output_type": "stream",
     "text": [
      "Epoch 51\n",
      "Trn - Loss .0076 | Dice .9925 | LR .001 | Time 1.0m 42.12s\n",
      "Val - Loss .0454 | Dice .9553 | LR .001 | Time 0.0m 24.28s\n"
     ]
    },
    {
     "name": "stdout",
     "output_type": "stream",
     "text": [
      "Memory usage (): 2871.00 MB\n",
      "\n"
     ]
    },
    {
     "name": "stderr",
     "output_type": "stream",
     "text": [
      "Epoch 52\n",
      "Trn - Loss .0082 | Dice .9919 | LR .001 | Time 1.0m 43.45s\n",
      "Val - Loss .0083 | Dice .9918 | LR .001 | Time 0.0m 22.59s\n"
     ]
    },
    {
     "name": "stdout",
     "output_type": "stream",
     "text": [
      "Memory usage (): 2871.00 MB\n",
      "\n"
     ]
    },
    {
     "name": "stderr",
     "output_type": "stream",
     "text": [
      "Epoch 53\n",
      "Trn - Loss .0076 | Dice .9925 | LR .001 | Time 1.0m 41.71s\n",
      "Val - Loss .0092 | Dice .9910 | LR .001 | Time 0.0m 22.69s\n"
     ]
    },
    {
     "name": "stdout",
     "output_type": "stream",
     "text": [
      "Memory usage (): 2871.00 MB\n",
      "\n"
     ]
    },
    {
     "name": "stderr",
     "output_type": "stream",
     "text": [
      "Epoch 54\n",
      "Trn - Loss .0075 | Dice .9927 | LR .001 | Time 1.0m 42.08s\n",
      "Val - Loss .0089 | Dice .9912 | LR .001 | Time 0.0m 22.45s\n"
     ]
    },
    {
     "name": "stdout",
     "output_type": "stream",
     "text": [
      "Memory usage (): 2871.00 MB\n",
      "\n"
     ]
    },
    {
     "name": "stderr",
     "output_type": "stream",
     "text": [
      "Epoch 55\n",
      "Trn - Loss .0075 | Dice .9926 | LR .001 | Time 1.0m 41.37s\n",
      "Val - Loss .0082 | Dice .9919 | LR .001 | Time 0.0m 22.73s\n"
     ]
    },
    {
     "name": "stdout",
     "output_type": "stream",
     "text": [
      "Memory usage (): 2871.00 MB\n",
      "\n"
     ]
    },
    {
     "name": "stderr",
     "output_type": "stream",
     "text": [
      "Epoch 56\n",
      "Trn - Loss .0075 | Dice .9926 | LR .001 | Time 1.0m 41.09s\n",
      "Val - Loss .0166 | Dice .9837 | LR .001 | Time 0.0m 22.97s\n"
     ]
    },
    {
     "name": "stdout",
     "output_type": "stream",
     "text": [
      "Memory usage (): 2871.00 MB\n",
      "\n"
     ]
    },
    {
     "name": "stderr",
     "output_type": "stream",
     "text": [
      "Epoch 57\n",
      "Trn - Loss .0079 | Dice .9923 | LR .001 | Time 1.0m 44.78s\n",
      "Val - Loss .0530 | Dice .9479 | LR .001 | Time 0.0m 20.76s\n"
     ]
    },
    {
     "name": "stdout",
     "output_type": "stream",
     "text": [
      "Memory usage (): 2871.00 MB\n",
      "\n"
     ]
    },
    {
     "name": "stderr",
     "output_type": "stream",
     "text": [
      "Epoch 58\n",
      "Trn - Loss .0078 | Dice .9924 | LR .001 | Time 1.0m 41.65s\n",
      "Val - Loss .0095 | Dice .9906 | LR .001 | Time 0.0m 20.84s\n"
     ]
    },
    {
     "name": "stdout",
     "output_type": "stream",
     "text": [
      "Memory usage (): 2871.00 MB\n",
      "\n"
     ]
    },
    {
     "name": "stderr",
     "output_type": "stream",
     "text": [
      "Epoch 59\n",
      "Trn - Loss .0075 | Dice .9926 | LR .001 | Time 1.0m 41.47s\n",
      "Val - Loss .0084 | Dice .9917 | LR .001 | Time 0.0m 22.97s\n"
     ]
    },
    {
     "name": "stdout",
     "output_type": "stream",
     "text": [
      "Memory usage (): 2871.00 MB\n",
      "\n"
     ]
    },
    {
     "name": "stderr",
     "output_type": "stream",
     "text": [
      "Epoch 60\n",
      "Trn - Loss .0066 | Dice .9935 | LR .0001 | Time 1.0m 39.71s\n",
      "Val - Loss .0072 | Dice .9929 | LR .0001 | Time 0.0m 24.49s\n"
     ]
    },
    {
     "name": "stdout",
     "output_type": "stream",
     "text": [
      "Memory usage (): 2871.00 MB\n",
      "\n"
     ]
    },
    {
     "name": "stderr",
     "output_type": "stream",
     "text": [
      "Epoch 61\n",
      "Trn - Loss .0063 | Dice .9938 | LR .0001 | Time 1.0m 37.82s\n",
      "Val - Loss .0071 | Dice .9930 | LR .0001 | Time 0.0m 25.87s\n"
     ]
    },
    {
     "name": "stdout",
     "output_type": "stream",
     "text": [
      "Memory usage (): 2871.00 MB\n",
      "\n"
     ]
    },
    {
     "name": "stderr",
     "output_type": "stream",
     "text": [
      "Epoch 62\n",
      "Trn - Loss .0062 | Dice .9939 | LR .0001 | Time 1.0m 37.50s\n",
      "Val - Loss .0071 | Dice .9930 | LR .0001 | Time 0.0m 25.67s\n"
     ]
    },
    {
     "name": "stdout",
     "output_type": "stream",
     "text": [
      "Memory usage (): 2871.00 MB\n",
      "\n"
     ]
    },
    {
     "name": "stderr",
     "output_type": "stream",
     "text": [
      "Epoch 63\n",
      "Trn - Loss .0062 | Dice .9940 | LR .0001 | Time 1.0m 38.86s\n",
      "Val - Loss .0070 | Dice .9931 | LR .0001 | Time 0.0m 25.77s\n"
     ]
    },
    {
     "name": "stdout",
     "output_type": "stream",
     "text": [
      "Memory usage (): 2871.00 MB\n",
      "\n"
     ]
    },
    {
     "name": "stderr",
     "output_type": "stream",
     "text": [
      "Epoch 64\n",
      "Trn - Loss .0061 | Dice .9940 | LR .0001 | Time 1.0m 36.24s\n",
      "Val - Loss .0070 | Dice .9931 | LR .0001 | Time 0.0m 25.77s\n"
     ]
    },
    {
     "name": "stdout",
     "output_type": "stream",
     "text": [
      "Memory usage (): 2871.00 MB\n",
      "\n"
     ]
    },
    {
     "name": "stderr",
     "output_type": "stream",
     "text": [
      "Epoch 65\n",
      "Trn - Loss .0061 | Dice .9940 | LR .0001 | Time 1.0m 32.52s\n",
      "Val - Loss .0072 | Dice .9929 | LR .0001 | Time 0.0m 26.71s\n"
     ]
    },
    {
     "name": "stdout",
     "output_type": "stream",
     "text": [
      "Memory usage (): 2871.00 MB\n",
      "\n"
     ]
    },
    {
     "name": "stderr",
     "output_type": "stream",
     "text": [
      "Epoch 66\n",
      "Trn - Loss .0060 | Dice .9941 | LR .0001 | Time 1.0m 35.51s\n",
      "Val - Loss .0070 | Dice .9931 | LR .0001 | Time 0.0m 25.33s\n"
     ]
    },
    {
     "name": "stdout",
     "output_type": "stream",
     "text": [
      "Memory usage (): 2871.00 MB\n",
      "\n"
     ]
    },
    {
     "name": "stderr",
     "output_type": "stream",
     "text": [
      "Epoch 67\n",
      "Trn - Loss .0060 | Dice .9942 | LR .0001 | Time 1.0m 36.20s\n",
      "Val - Loss .0069 | Dice .9932 | LR .0001 | Time 0.0m 26.69s\n"
     ]
    },
    {
     "name": "stdout",
     "output_type": "stream",
     "text": [
      "Memory usage (): 2871.00 MB\n",
      "\n"
     ]
    },
    {
     "name": "stderr",
     "output_type": "stream",
     "text": [
      "Epoch 68\n",
      "Trn - Loss .0059 | Dice .9942 | LR .0001 | Time 1.0m 34.80s\n",
      "Val - Loss .0069 | Dice .9932 | LR .0001 | Time 0.0m 25.26s\n"
     ]
    },
    {
     "name": "stdout",
     "output_type": "stream",
     "text": [
      "Memory usage (): 2871.00 MB\n",
      "\n"
     ]
    },
    {
     "name": "stderr",
     "output_type": "stream",
     "text": [
      "Epoch 69\n",
      "Trn - Loss .0059 | Dice .9943 | LR .0001 | Time 1.0m 34.23s\n",
      "Val - Loss .0069 | Dice .9932 | LR .0001 | Time 0.0m 25.30s\n"
     ]
    },
    {
     "name": "stdout",
     "output_type": "stream",
     "text": [
      "Memory usage (): 2872.00 MB\n",
      "\n"
     ]
    },
    {
     "name": "stderr",
     "output_type": "stream",
     "text": [
      "Epoch 70\n",
      "Trn - Loss .0058 | Dice .9943 | LR .0001 | Time 1.0m 34.29s\n",
      "Val - Loss .0069 | Dice .9931 | LR .0001 | Time 0.0m 27.03s\n"
     ]
    },
    {
     "name": "stdout",
     "output_type": "stream",
     "text": [
      "Memory usage (): 2872.00 MB\n",
      "\n"
     ]
    },
    {
     "name": "stderr",
     "output_type": "stream",
     "text": [
      "Epoch 71\n",
      "Trn - Loss .0058 | Dice .9943 | LR .0001 | Time 1.0m 37.80s\n",
      "Val - Loss .0069 | Dice .9932 | LR .0001 | Time 0.0m 26.71s\n"
     ]
    },
    {
     "name": "stdout",
     "output_type": "stream",
     "text": [
      "Memory usage (): 2872.00 MB\n",
      "\n"
     ]
    },
    {
     "name": "stderr",
     "output_type": "stream",
     "text": [
      "Epoch 72\n",
      "Trn - Loss .0058 | Dice .9943 | LR .0001 | Time 1.0m 37.29s\n",
      "Val - Loss .0070 | Dice .9931 | LR .0001 | Time 0.0m 25.77s\n"
     ]
    },
    {
     "name": "stdout",
     "output_type": "stream",
     "text": [
      "Memory usage (): 2872.00 MB\n",
      "\n"
     ]
    },
    {
     "name": "stderr",
     "output_type": "stream",
     "text": [
      "Epoch 73\n",
      "Trn - Loss .0057 | Dice .9944 | LR .0001 | Time 1.0m 35.58s\n",
      "Val - Loss .0069 | Dice .9932 | LR .0001 | Time 0.0m 25.68s\n"
     ]
    },
    {
     "name": "stdout",
     "output_type": "stream",
     "text": [
      "Memory usage (): 2872.00 MB\n",
      "\n"
     ]
    },
    {
     "name": "stderr",
     "output_type": "stream",
     "text": [
      "Epoch 74\n",
      "Trn - Loss .0057 | Dice .9944 | LR .0001 | Time 1.0m 35.24s\n",
      "Val - Loss .0069 | Dice .9932 | LR .0001 | Time 0.0m 26.82s\n"
     ]
    },
    {
     "name": "stdout",
     "output_type": "stream",
     "text": [
      "Memory usage (): 2872.00 MB\n",
      "\n"
     ]
    },
    {
     "name": "stderr",
     "output_type": "stream",
     "text": [
      "Epoch 75\n",
      "Trn - Loss .0057 | Dice .9944 | LR .0001 | Time 1.0m 35.44s\n",
      "Val - Loss .0069 | Dice .9932 | LR .0001 | Time 0.0m 26.24s\n"
     ]
    },
    {
     "name": "stdout",
     "output_type": "stream",
     "text": [
      "Memory usage (): 2872.00 MB\n",
      "\n"
     ]
    },
    {
     "name": "stderr",
     "output_type": "stream",
     "text": [
      "Epoch 76\n",
      "Trn - Loss .0057 | Dice .9945 | LR .0001 | Time 1.0m 36.32s\n",
      "Val - Loss .0068 | Dice .9933 | LR .0001 | Time 0.0m 25.50s\n"
     ]
    },
    {
     "name": "stdout",
     "output_type": "stream",
     "text": [
      "Memory usage (): 2872.00 MB\n",
      "\n"
     ]
    },
    {
     "name": "stderr",
     "output_type": "stream",
     "text": [
      "Epoch 77\n",
      "Trn - Loss .0056 | Dice .9945 | LR .0001 | Time 1.0m 36.64s\n",
      "Val - Loss .0069 | Dice .9932 | LR .0001 | Time 0.0m 25.45s\n"
     ]
    },
    {
     "name": "stdout",
     "output_type": "stream",
     "text": [
      "Memory usage (): 2872.00 MB\n",
      "\n"
     ]
    },
    {
     "name": "stderr",
     "output_type": "stream",
     "text": [
      "Epoch 78\n",
      "Trn - Loss .0056 | Dice .9945 | LR .0001 | Time 1.0m 37.00s\n",
      "Val - Loss .0068 | Dice .9933 | LR .0001 | Time 0.0m 25.43s\n"
     ]
    },
    {
     "name": "stdout",
     "output_type": "stream",
     "text": [
      "Memory usage (): 2872.00 MB\n",
      "\n"
     ]
    },
    {
     "name": "stderr",
     "output_type": "stream",
     "text": [
      "Epoch 79\n",
      "Trn - Loss .0056 | Dice .9945 | LR .0001 | Time 1.0m 37.07s\n",
      "Val - Loss .0068 | Dice .9933 | LR .0001 | Time 0.0m 25.67s\n"
     ]
    },
    {
     "name": "stdout",
     "output_type": "stream",
     "text": [
      "Memory usage (): 2872.00 MB\n",
      "\n"
     ]
    },
    {
     "name": "stderr",
     "output_type": "stream",
     "text": [
      "Epoch 80\n",
      "Trn - Loss .0055 | Dice .9946 | LR .0001 | Time 1.0m 37.19s\n",
      "Val - Loss .0069 | Dice .9932 | LR .0001 | Time 0.0m 26.05s\n"
     ]
    },
    {
     "name": "stdout",
     "output_type": "stream",
     "text": [
      "Memory usage (): 2872.00 MB\n",
      "\n"
     ]
    },
    {
     "name": "stderr",
     "output_type": "stream",
     "text": [
      "Epoch 81\n",
      "Trn - Loss .0055 | Dice .9946 | LR .0001 | Time 1.0m 29.26s\n",
      "Val - Loss .0069 | Dice .9932 | LR .0001 | Time 0.0m 26.25s\n"
     ]
    },
    {
     "name": "stdout",
     "output_type": "stream",
     "text": [
      "Memory usage (): 2872.00 MB\n",
      "\n"
     ]
    },
    {
     "name": "stderr",
     "output_type": "stream",
     "text": [
      "Epoch 82\n",
      "Trn - Loss .0055 | Dice .9946 | LR .0001 | Time 1.0m 25.36s\n",
      "Val - Loss .0069 | Dice .9932 | LR .0001 | Time 0.0m 27.56s\n"
     ]
    },
    {
     "name": "stdout",
     "output_type": "stream",
     "text": [
      "Memory usage (): 2872.00 MB\n",
      "\n"
     ]
    },
    {
     "name": "stderr",
     "output_type": "stream",
     "text": [
      "Epoch 83\n",
      "Trn - Loss .0055 | Dice .9946 | LR .0001 | Time 1.0m 24.57s\n",
      "Val - Loss .0068 | Dice .9932 | LR .0001 | Time 0.0m 26.81s\n"
     ]
    },
    {
     "name": "stdout",
     "output_type": "stream",
     "text": [
      "Memory usage (): 2872.00 MB\n",
      "\n"
     ]
    },
    {
     "name": "stderr",
     "output_type": "stream",
     "text": [
      "Epoch 84\n",
      "Trn - Loss .0055 | Dice .9947 | LR .0001 | Time 1.0m 24.57s\n",
      "Val - Loss .0068 | Dice .9933 | LR .0001 | Time 0.0m 27.14s\n"
     ]
    },
    {
     "name": "stdout",
     "output_type": "stream",
     "text": [
      "Memory usage (): 2872.00 MB\n",
      "\n"
     ]
    },
    {
     "name": "stderr",
     "output_type": "stream",
     "text": [
      "Epoch 85\n",
      "Trn - Loss .0055 | Dice .9947 | LR .0001 | Time 1.0m 18.60s\n",
      "Val - Loss .0068 | Dice .9933 | LR .0001 | Time 0.0m 26.59s\n"
     ]
    },
    {
     "name": "stdout",
     "output_type": "stream",
     "text": [
      "Memory usage (): 2872.00 MB\n",
      "\n"
     ]
    },
    {
     "name": "stderr",
     "output_type": "stream",
     "text": [
      "Epoch 86\n",
      "Trn - Loss .0054 | Dice .9947 | LR .0001 | Time 1.0m 24.30s\n",
      "Val - Loss .0068 | Dice .9933 | LR .0001 | Time 0.0m 27.13s\n"
     ]
    },
    {
     "name": "stdout",
     "output_type": "stream",
     "text": [
      "Memory usage (): 2872.00 MB\n",
      "\n"
     ]
    },
    {
     "name": "stderr",
     "output_type": "stream",
     "text": [
      "Epoch 87\n",
      "Trn - Loss .0054 | Dice .9947 | LR .0001 | Time 1.0m 34.65s\n",
      "Val - Loss .0068 | Dice .9933 | LR .0001 | Time 0.0m 25.66s\n"
     ]
    },
    {
     "name": "stdout",
     "output_type": "stream",
     "text": [
      "Memory usage (): 2872.00 MB\n",
      "\n"
     ]
    },
    {
     "name": "stderr",
     "output_type": "stream",
     "text": [
      "Epoch 88\n",
      "Trn - Loss .0054 | Dice .9947 | LR .0001 | Time 1.0m 26.74s\n"
     ]
    }
   ],
   "source": [
    "exp.train(trainer, trn_loader, val_loader)"
   ]
  },
  {
   "cell_type": "code",
   "execution_count": null,
   "metadata": {
    "collapsed": true
   },
   "outputs": [],
   "source": [
    "# import cv2\n",
    "# SMOOTHING\n",
    "\n",
    "# print(cv2.__version__)\n",
    "\n",
    "# img = cv2.imread('iep43.jpg', 0)\n",
    "# kernel = cv2.getStructuringElement(cv2.MORPH_ELLIPSE, (11, 11))\n",
    "# (thresh, binRed) = cv2.threshold(img, 128, 255, cv2.THRESH_BINARY)\n",
    "# opening = cv2.morphologyEx(img, cv2.MORPH_OPEN, kernel, iterations=3)\n",
    "# cv2.imwrite(\"cleaned.jpg\", opening)"
   ]
  },
  {
   "cell_type": "markdown",
   "metadata": {},
   "source": [
    "## Predict"
   ]
  },
  {
   "cell_type": "markdown",
   "metadata": {},
   "source": [
    "### Val"
   ]
  },
  {
   "cell_type": "code",
   "execution_count": null,
   "metadata": {
    "collapsed": true
   },
   "outputs": [],
   "source": [
    "%time val_probs = predictions.get_mask_probabilities(model, val_loader)\n",
    "%time val_probs_fullsize = predictions.get_mask_probabilities(model, val_loader, W=DATA_CONFIG['img_W'], H=DATA_CONFIG['img_H'])\n",
    "%time val_preds = predictions.get_mask_predictions(model, val_loader, 0.5, W=DATA_CONFIG['img_W'], H=DATA_CONFIG['img_H'])"
   ]
  },
  {
   "cell_type": "code",
   "execution_count": null,
   "metadata": {
    "collapsed": true
   },
   "outputs": [],
   "source": [
    "val_fpath = carvana.predict_binary_mask_blocks('1024test', c.VAL, model, \n",
    "                                             val_dataset, block_size=500, \n",
    "                                             batch_size=8, threshold=0.5, \n",
    "                                               W=DATA_CONFIG['img_W'], H=DATA_CONFIG['img_H'])"
   ]
  },
  {
   "cell_type": "code",
   "execution_count": null,
   "metadata": {
    "collapsed": true
   },
   "outputs": [],
   "source": [
    "#val_fpath = os.path.join(cfg.PATHS['predictions'],'block_testing_val.bc')\n",
    "val_preds = predictions.load_pred(val_fpath, False)\n",
    "val_full_targs = predictions.load_pred(cfg.PATHS['datasets']['targets']['trn_bc'], False)[-val_size:]"
   ]
  },
  {
   "cell_type": "code",
   "execution_count": null,
   "metadata": {
    "collapsed": true
   },
   "outputs": [],
   "source": [
    "val_dice = metric_utils.get_metric_in_blocks(val_preds, val_targs, 500, metric_utils.get_dice_score)\n",
    "val_dice"
   ]
  },
  {
   "cell_type": "code",
   "execution_count": null,
   "metadata": {
    "collapsed": true
   },
   "outputs": [],
   "source": [
    "a = utils.imgs.format_1D_binary_mask(val_preds[idx])\n",
    "#a[:,:,:] = 255"
   ]
  },
  {
   "cell_type": "code",
   "execution_count": null,
   "metadata": {
    "collapsed": true
   },
   "outputs": [],
   "source": [
    "pred_mask_color = utils.imgs.CLASS_COLORS['green']\n",
    "targ_mask_color = (255,255,255)"
   ]
  },
  {
   "cell_type": "code",
   "execution_count": null,
   "metadata": {
    "collapsed": true,
    "scrolled": false
   },
   "outputs": [],
   "source": [
    "val_full_inputs, _, val_imp_paths, val_tar_paths = next(iter(val_fullsize_loader))\n",
    "idx = random.randint(1,len(val_full_targets))\n",
    "utils.imgs.plot_img_tensor(val_full_inputs[idx])\n",
    "utils.imgs.plot_binary_mask(val_preds[idx], color=pred_mask_color)\n",
    "utils.imgs.plot_binary_mask(val_full_targets[idx].numpy())\n",
    "utils.imgs.plot_binary_mask_overlay(val_full_targets[idx].numpy(), \n",
    "                                    utils.imgs.tensor_to_arr(val_full_inputs[idx]), \n",
    "                                    title=val_imp_paths[idx])\n",
    "print(metric_utils.get_dice_score(val_preds[:len(val_full_targets)], val_full_targets.numpy()))\n",
    "val_fnames = utils.files.get_fnames_from_fpaths(val_imp_paths)\n",
    "utils.imgs.plot_sample_preds_masks(val_fnames, val_full_inputs[:], val_preds[:len(val_full_inputs)], \n",
    "                                   fs=(18,18), n_samples=2, shuffle=True)"
   ]
  },
  {
   "cell_type": "markdown",
   "metadata": {},
   "source": [
    "### Test"
   ]
  },
  {
   "cell_type": "code",
   "execution_count": null,
   "metadata": {
    "collapsed": true,
    "scrolled": false
   },
   "outputs": [],
   "source": [
    "pred_fpath = carvana.predict_binary_mask_blocks('512_start', c.TEST, model, \n",
    "                                             tst_dataset, block_size=2000, \n",
    "                                             batch_size=16, threshold=0.5, W=DATA_CONFIG['img_W'], H=DATA_CONFIG['img_H'])"
   ]
  },
  {
   "cell_type": "code",
   "execution_count": null,
   "metadata": {
    "collapsed": true
   },
   "outputs": [],
   "source": [
    "pred_fpath = os.path.join(cfg.PATHS['predictions'], '512_start_tst.bc')"
   ]
  },
  {
   "cell_type": "code",
   "execution_count": null,
   "metadata": {
    "collapsed": true,
    "scrolled": false
   },
   "outputs": [],
   "source": [
    "# Full-Size Tst Predictions\n",
    "tst_full_inputs, tst_full_targets, full_tst_imp_path, tst_tar_path = next(iter(tst_fullsize_loader))\n",
    "full_tst_preds = predictions.load_pred(pred_fpath)\n",
    "tst_fnames = full_tst_preds.attrs['meta']['input_fnames']\n",
    "print(full_tst_preds.shape)\n",
    "np_tst_preds = np.array(full_tst_preds[:100])"
   ]
  },
  {
   "cell_type": "code",
   "execution_count": null,
   "metadata": {
    "collapsed": true
   },
   "outputs": [],
   "source": [
    "full_tst_preds[0].astype('uint8')"
   ]
  },
  {
   "cell_type": "code",
   "execution_count": null,
   "metadata": {
    "collapsed": true
   },
   "outputs": [],
   "source": [
    "np.min(full_tst_preds[0])"
   ]
  },
  {
   "cell_type": "code",
   "execution_count": null,
   "metadata": {
    "collapsed": true,
    "scrolled": false
   },
   "outputs": [],
   "source": [
    "utils.imgs.plot_sample_preds_masks(tst_fnames, tst_full_inputs, np_tst_preds > 0.0, \n",
    "                                   fs=(18,18), n_samples=2, shuffle=True)"
   ]
  },
  {
   "cell_type": "code",
   "execution_count": null,
   "metadata": {
    "collapsed": true
   },
   "outputs": [],
   "source": [
    "# Small Tst Predictions (pre-upscale)\n",
    "sample_tst_inputs, sample_tst_targets, sample_tst_imp_paths, tst_tar_paths = next(iter(tst_loader))\n",
    "sample_tst_preds = predictions.predict_batch(model, sample_tst_inputs)\n",
    "tst_fnames = utils.files.get_fnames_from_fpaths(sample_tst_imp_paths)\n",
    "print(tst_fnames[:20])\n",
    "sample_tst_preds.shape"
   ]
  },
  {
   "cell_type": "code",
   "execution_count": null,
   "metadata": {
    "collapsed": true,
    "scrolled": false
   },
   "outputs": [],
   "source": [
    "utils.imgs.plot_sample_preds_masks(tst_fnames, sample_tst_inputs, sample_tst_preds > 0.5, \n",
    "                                   fs=(18,18), n_samples=4, shuffle=False)"
   ]
  },
  {
   "cell_type": "markdown",
   "metadata": {},
   "source": [
    "## Submit"
   ]
  },
  {
   "cell_type": "code",
   "execution_count": null,
   "metadata": {
    "collapsed": true,
    "scrolled": false
   },
   "outputs": [],
   "source": [
    "sub_fpath = carvana.make_submission(full_tst_preds, block_size=2000, header='img,rle_mask', compress=False)"
   ]
  },
  {
   "cell_type": "code",
   "execution_count": null,
   "metadata": {
    "collapsed": true
   },
   "outputs": [],
   "source": [
    "# sub_fpath = '/bigguy/data/carvana/submissions/UNet128-SGD-ScheduledLR-img128-lr0.1-wd1e-05-bs64-fold1K-idE5E9C_val_blocks.csv'\n",
    "compr_sub_fpath = utils.files.compress_file(sub_fpath)"
   ]
  },
  {
   "cell_type": "code",
   "execution_count": null,
   "metadata": {
    "collapsed": true
   },
   "outputs": [],
   "source": [
    "# Verify\n",
    "idx = 0\n",
    "sub_df = pd.read_csv(sub_fpath)\n",
    "sub_f = sub_df.iloc[idx][0]\n",
    "sub_str = sub_df.iloc[idx][1]\n",
    "print(sub_f, sub_str)\n",
    "decoded_pred = submissions.run_length_decode(sub_str, 1280, 1918, fill_value=1)\n",
    "print(decoded_pred.shape)"
   ]
  },
  {
   "cell_type": "code",
   "execution_count": null,
   "metadata": {
    "collapsed": true
   },
   "outputs": [],
   "source": [
    "utils.imgs.plot_binary_mask(decoded_pred)"
   ]
  },
  {
   "cell_type": "markdown",
   "metadata": {
    "collapsed": true
   },
   "source": [
    "## Ensemble"
   ]
  },
  {
   "cell_type": "code",
   "execution_count": null,
   "metadata": {
    "collapsed": true
   },
   "outputs": [],
   "source": [
    "member_fpaths = predictions.list_local_preds(dset=c.VAL, fnames=False)\n",
    "member_fpaths"
   ]
  },
  {
   "cell_type": "code",
   "execution_count": null,
   "metadata": {
    "collapsed": true
   },
   "outputs": [],
   "source": [
    "val_pred = predictions.load_pred(val_fpath)"
   ]
  },
  {
   "cell_type": "code",
   "execution_count": null,
   "metadata": {
    "collapsed": true,
    "scrolled": false
   },
   "outputs": [],
   "source": [
    "ens_fpath = ensembles.ens_prediction_files('valens', member_fpaths, block_size=200)"
   ]
  },
  {
   "cell_type": "code",
   "execution_count": null,
   "metadata": {
    "collapsed": true
   },
   "outputs": [],
   "source": [
    "ens = predictions.load_pred('/bigguy/data/carvana/predictions/valens_ens.bc')"
   ]
  },
  {
   "cell_type": "code",
   "execution_count": null,
   "metadata": {
    "collapsed": true
   },
   "outputs": [],
   "source": [
    "ens.shape, val_full_targets.numpy().shape"
   ]
  },
  {
   "cell_type": "code",
   "execution_count": null,
   "metadata": {
    "collapsed": true
   },
   "outputs": [],
   "source": [
    "print(ens.attrs['meta']['members'].keys())\n",
    "print(len(ens.attrs['meta']['input_fnames']))\n",
    "ens.attrs['meta']['input_fnames'][:10]"
   ]
  },
  {
   "cell_type": "code",
   "execution_count": null,
   "metadata": {
    "collapsed": true
   },
   "outputs": [],
   "source": [
    "a = np.expand_dims(ens[3],0)\n",
    "metric_utils.get_dice_score(a>0.5,val_full_targets.numpy()[3])"
   ]
  },
  {
   "cell_type": "code",
   "execution_count": null,
   "metadata": {
    "collapsed": true
   },
   "outputs": [],
   "source": []
  }
 ],
 "metadata": {
  "kernelspec": {
   "display_name": "Python 3",
   "language": "python",
   "name": "python3"
  },
  "language_info": {
   "codemirror_mode": {
    "name": "ipython",
    "version": 3
   },
   "file_extension": ".py",
   "mimetype": "text/x-python",
   "name": "python",
   "nbconvert_exporter": "python",
   "pygments_lexer": "ipython3",
   "version": "3.6.0"
  },
  "latex_envs": {
   "LaTeX_envs_menu_present": true,
   "autocomplete": true,
   "bibliofile": "biblio.bib",
   "cite_by": "apalike",
   "current_citInitial": 1,
   "eqLabelWithNumbers": true,
   "eqNumInitial": 1,
   "hotkeys": {
    "equation": "Ctrl-E",
    "itemize": "Ctrl-I"
   },
   "labels_anchors": false,
   "latex_user_defs": false,
   "report_style_numbering": false,
   "user_envs_cfg": false
  },
  "toc": {
   "colors": {
    "hover_highlight": "#DAA520",
    "navigate_num": "#000000",
    "navigate_text": "#333333",
    "running_highlight": "#FF0000",
    "selected_highlight": "#FFD700",
    "sidebar_border": "#EEEEEE",
    "wrapper_background": "#FFFFFF"
   },
   "moveMenuLeft": true,
   "nav_menu": {
    "height": "4px",
    "width": "254px"
   },
   "navigate_menu": true,
   "number_sections": true,
   "sideBar": true,
   "threshold": 4,
   "toc_cell": false,
   "toc_section_display": "block",
   "toc_window_display": false,
   "widenNotebook": false
  }
 },
 "nbformat": 4,
 "nbformat_minor": 2
}
